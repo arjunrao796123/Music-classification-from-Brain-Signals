{
 "cells": [
  {
   "cell_type": "code",
   "execution_count": 1,
   "metadata": {},
   "outputs": [],
   "source": [
    "import os\n",
    "os.environ[\"THEANO_FLAGS\"] = \"floatX=float32,device=cpu\"\n",
    "\n",
    "import deepthought\n",
    "import os\n",
    "from deepthought.datasets.eeg.meta_class import DataFileWithMetaClasses\n",
    "\n",
    "db = DataFileWithMetaClasses(\n",
    "        filepath='data/OpenMIIR-Perception-512Hz.pklz',\n",
    "        meta_classes={                                                \n",
    "                    'within_subject_tuples_group': ['subject', 'condition'],\n",
    "                    'cross_subject_tuples_group': ['condition'], # cross-participant triplets - this should be very tough                },\n",
    "                },\n",
    "    )"
   ]
  },
  {
   "cell_type": "code",
   "execution_count": 48,
   "metadata": {},
   "outputs": [],
   "source": [
    "from deepthought.datasets.eeg.EEGEpochsDataset import EEGEpochsDataset\n",
    "INPUT_LEN = 3518\n",
    "base_dataset = EEGEpochsDataset(\n",
    "                db=db,\n",
    "                meta_sources=['subject'],\n",
    "                selectors={         \n",
    "                    #'trial_no' : [0,1,  3,4],\n",
    "                    'condition' : [1,2,3,4],\n",
    "                },\n",
    "                use_targets=False,\n",
    "                stop_sample=INPUT_LEN,\n",
    "                label_attribute='stimulus_id',\n",
    "                label_map= { # stimulus_id\n",
    "                    1: 0, 2: 1, 3: 2, 4: 3, 11: 4, 12: 5, 13: 6, 14: 7, 21: 8, 22: 9, 23: 10, 24: 11,\n",
    "                },\n",
    "                remove_dc_offset=True,\n",
    "                layout='tf',\n",
    "            )"
   ]
  },
  {
   "cell_type": "code",
   "execution_count": 49,
   "metadata": {},
   "outputs": [
    {
     "name": "stdout",
     "output_type": "stream",
     "text": [
      "(2160, 3518, 1, 64)\n",
      "(2160, 12)\n",
      "{'subject': 'P01', 'trial_type': 'perception', 'trial_no': 0, 'condition': 1, 'stimulus_id': 1, 'within_subject_tuples_group': 0, 'cross_subject_tuples_group': 0}\n",
      "dict_keys(['subject', 'trial_type', 'trial_no', 'condition', 'stimulus_id', 'within_subject_tuples_group', 'cross_subject_tuples_group'])\n"
     ]
    }
   ],
   "source": [
    "print (base_dataset.trials.shape)\n",
    "print (base_dataset.y.shape)\n",
    "print (base_dataset.metadata[0])\n",
    "print (base_dataset.metadata[0].keys())"
   ]
  },
  {
   "cell_type": "code",
   "execution_count": 50,
   "metadata": {},
   "outputs": [
    {
     "name": "stdout",
     "output_type": "stream",
     "text": [
      "(2160, 64, 3518, 1)\n"
     ]
    }
   ],
   "source": [
    "# convert to bc01 axis format\n",
    "import numpy as np\n",
    "features_bc01 = np.rollaxis(base_dataset.trials,3,1)\n",
    "print (features_bc01.shape)"
   ]
  },
  {
   "cell_type": "code",
   "execution_count": 51,
   "metadata": {},
   "outputs": [
    {
     "name": "stderr",
     "output_type": "stream",
     "text": [
      "C:\\Users\\varun\\Documents\\Deep Learning\\project\\openmiir-rl-2016-master\\openmiir-rl-2016-master\\fuel\\datasets\\hdf5.py:270: FutureWarning: Passing (type, 1) or '1type' as a synonym of type is deprecated; in a future version of numpy, it will be understood as (type, (1,)) / '(1,)type'.\n",
      "  ('comment', 'a', comment_len)]))\n"
     ]
    }
   ],
   "source": [
    "# save dataset\n",
    "\n",
    "import h5py\n",
    "from fuel.datasets.hdf5 import H5PYDataset\n",
    "\n",
    "hdf5name = 'data/OpenMIIR-Perception-512Hz.hdf5'\n",
    "f = h5py.File(hdf5name, mode='w')\n",
    "\n",
    "N = len(base_dataset.trials)\n",
    "fx = f.create_dataset('features', features_bc01.shape, dtype='float32')\n",
    "fy = f.create_dataset('targets', base_dataset.y.shape, dtype='int8')\n",
    "fx[...] = features_bc01\n",
    "fy[...] = base_dataset.y\n",
    "\n",
    "# for using indices\n",
    "findices = f.create_dataset('indices', (N,), dtype='int')\n",
    "findices[...] = range(N)\n",
    "\n",
    "# additional metadata source for hydra-net control flow\n",
    "subjects = ['P01','P04','P06','P07','P09','P11','P12','P13','P14']\n",
    "fsubject = f.create_dataset('subjects', (N,), dtype='int8')\n",
    "fsubject[...] = [subjects.index(meta['subject']) for meta in base_dataset.metadata]\n",
    "\n",
    "split_dict = {\n",
    "    'all': {'features': (0, N), \n",
    "            'indices': (0, N), \n",
    "            'targets': (0, N),\n",
    "            'subjects': (0, N)\n",
    "           },\n",
    "}\n",
    "\n",
    "f.attrs['split'] = H5PYDataset.create_split_array(split_dict)\n",
    "\n",
    "f.flush()\n",
    "f.close()\n",
    "\n",
    "# metadata for subset selection\n",
    "import deepthought.util.fs_util as fs_util\n",
    "fs_util.save(hdf5name+'.meta.pklz', base_dataset.metadata)"
   ]
  },
  {
   "cell_type": "code",
   "execution_count": 52,
   "metadata": {},
   "outputs": [
    {
     "data": {
      "text/plain": [
       "(2160, 64, 3518, 1)"
      ]
     },
     "execution_count": 52,
     "metadata": {},
     "output_type": "execute_result"
    }
   ],
   "source": [
    "features_bc01.shape"
   ]
  },
  {
   "cell_type": "code",
   "execution_count": 53,
   "metadata": {},
   "outputs": [
    {
     "data": {
      "text/plain": [
       "(2160, 12)"
      ]
     },
     "execution_count": 53,
     "metadata": {},
     "output_type": "execute_result"
    }
   ],
   "source": [
    "base_dataset.y.shape"
   ]
  },
  {
   "cell_type": "code",
   "execution_count": 54,
   "metadata": {},
   "outputs": [
    {
     "data": {
      "text/plain": [
       "array([1, 0, 0, 0, 0, 0, 0, 0, 0, 0, 0, 0])"
      ]
     },
     "execution_count": 54,
     "metadata": {},
     "output_type": "execute_result"
    }
   ],
   "source": [
    "base_dataset.y[0]"
   ]
  },
  {
   "cell_type": "code",
   "execution_count": 55,
   "metadata": {},
   "outputs": [
    {
     "data": {
      "text/plain": [
       "array([0, 0, 0, 1, 0, 0, 0, 0, 0, 0, 0, 0])"
      ]
     },
     "execution_count": 55,
     "metadata": {},
     "output_type": "execute_result"
    }
   ],
   "source": [
    "base_dataset.y[60]"
   ]
  },
  {
   "cell_type": "code",
   "execution_count": 90,
   "metadata": {},
   "outputs": [
    {
     "data": {
      "text/plain": [
       "(2160,)"
      ]
     },
     "execution_count": 90,
     "metadata": {},
     "output_type": "execute_result"
    }
   ],
   "source": [
    "labels=[]\n",
    "for i in base_dataset.y:\n",
    "    labels.append(np.where(i==1))\n",
    "labels=np.array(labels)\n",
    "labels=labels.reshape((base_dataset.y.shape[0],))\n",
    "labels.shape"
   ]
  },
  {
   "cell_type": "code",
   "execution_count": 91,
   "metadata": {},
   "outputs": [
    {
     "data": {
      "text/plain": [
       "0"
      ]
     },
     "execution_count": 91,
     "metadata": {},
     "output_type": "execute_result"
    }
   ],
   "source": [
    "labels[5]"
   ]
  },
  {
   "cell_type": "code",
   "execution_count": 92,
   "metadata": {},
   "outputs": [],
   "source": [
    "labels_dict={0:1,1:2,2:3,3:4,4:11,5:12,6:13,7:14,8:21,9:22,10:23,11:24}"
   ]
  },
  {
   "cell_type": "code",
   "execution_count": 93,
   "metadata": {},
   "outputs": [
    {
     "data": {
      "text/plain": [
       "array([ 0,  0,  0, ..., 11, 11, 11], dtype=int64)"
      ]
     },
     "execution_count": 93,
     "metadata": {},
     "output_type": "execute_result"
    }
   ],
   "source": [
    "labels"
   ]
  },
  {
   "cell_type": "code",
   "execution_count": 94,
   "metadata": {},
   "outputs": [],
   "source": [
    "features=features_bc01"
   ]
  },
  {
   "cell_type": "code",
   "execution_count": 95,
   "metadata": {},
   "outputs": [
    {
     "data": {
      "text/plain": [
       "(2160, 64, 3518, 1)"
      ]
     },
     "execution_count": 95,
     "metadata": {},
     "output_type": "execute_result"
    }
   ],
   "source": [
    "features.shape"
   ]
  },
  {
   "cell_type": "code",
   "execution_count": 96,
   "metadata": {},
   "outputs": [
    {
     "data": {
      "text/plain": [
       "(2160, 64, 3518)"
      ]
     },
     "execution_count": 96,
     "metadata": {},
     "output_type": "execute_result"
    }
   ],
   "source": [
    "features=features.reshape(features.shape[0],64,3518)\n",
    "#features=np.swapaxes(features,1,2)\n",
    "features.shape"
   ]
  },
  {
   "cell_type": "code",
   "execution_count": 97,
   "metadata": {},
   "outputs": [],
   "source": [
    "import tensorflow as tf\n",
    "from sklearn.model_selection import train_test_split\n",
    "from sklearn.metrics import accuracy_score\n",
    "import matplotlib.pyplot as plt\n",
    "from tensorflow.keras.preprocessing.sequence import pad_sequences\n",
    "from tensorflow.keras.layers import Embedding, LSTM, Dense, Dropout, Bidirectional,SimpleRNN\n",
    "from tensorflow.keras.preprocessing.text import Tokenizer\n",
    "from tensorflow.keras.models import Sequential\n",
    "from tensorflow.keras.optimizers import Adam\n",
    "from tensorflow.keras import regularizers\n",
    "import tensorflow.keras.utils as ku"
   ]
  },
  {
   "cell_type": "code",
   "execution_count": 100,
   "metadata": {},
   "outputs": [
    {
     "name": "stderr",
     "output_type": "stream",
     "text": [
      "C:\\Users\\varun\\Anaconda3\\lib\\site-packages\\ipykernel_launcher.py:9: DeprecationWarning: in the future out of bounds indices will raise an error instead of being ignored by `numpy.delete`.\n",
      "  if __name__ == '__main__':\n"
     ]
    },
    {
     "name": "stdout",
     "output_type": "stream",
     "text": [
      "(1296, 64, 3518) (1296,) (432, 64, 3518) (432,) (432, 64, 3518) (432,)\n"
     ]
    },
    {
     "name": "stderr",
     "output_type": "stream",
     "text": [
      "C:\\Users\\varun\\Anaconda3\\lib\\site-packages\\ipykernel_launcher.py:10: DeprecationWarning: in the future out of bounds indices will raise an error instead of being ignored by `numpy.delete`.\n",
      "  # Remove the CWD from sys.path while we load stuff.\n"
     ]
    }
   ],
   "source": [
    "#x_train, x_val, y_train, y_val = train_test_split(features, labels, test_size = 0.3, random_state = 5)\n",
    "x_val=features[4::5]\n",
    "y_val=labels[4::5]\n",
    "x_train=np.delete(features, list(range(0, features.shape[0], 5)), axis=0)\n",
    "y_train=np.delete(labels, list(range(0, labels.shape[0], 5)), axis=0)\n",
    "\n",
    "x_test=x_train[3::4]\n",
    "y_test=y_train[3::4]\n",
    "x_train=np.delete(x_train, list(range(0, features.shape[0], 4)), axis=0)\n",
    "y_train=np.delete(y_train, list(range(0, labels.shape[0], 4)), axis=0)\n",
    "\n",
    "\n",
    "print(x_train.shape,y_train.shape, x_val.shape, y_val.shape, x_test.shape, y_test.shape)"
   ]
  },
  {
   "cell_type": "code",
   "execution_count": 101,
   "metadata": {},
   "outputs": [],
   "source": [
    "#x_train=x_train.to_numpy()\n",
    "x_train = x_train.reshape(x_train.shape[0], 64,3518)\n",
    "#x_val=x_val.to_numpy()\n",
    "x_val = x_val.reshape(x_val.shape[0],  64,3518)\n"
   ]
  },
  {
   "cell_type": "code",
   "execution_count": 102,
   "metadata": {},
   "outputs": [],
   "source": [
    "model = Sequential()\n",
    "model.add(Bidirectional(LSTM(64, return_sequences = True),input_shape=(64,3518)))\n",
    "model.add(Dropout(0.7))\n",
    "model.add(Bidirectional(LSTM(64, return_sequences = True)))\n",
    "model.add(LSTM(100))\n",
    "model.add(Dense(128, activation='tanh'))\n",
    "model.add(Dense(12, activation='softmax'))\n",
    "#model.compile(loss='categorical_crossentropy', optimizer='adam', metrics=['accuracy'])"
   ]
  },
  {
   "cell_type": "code",
   "execution_count": 103,
   "metadata": {},
   "outputs": [],
   "source": [
    "model.compile(optimizer='Adamax', loss='sparse_categorical_crossentropy', metrics=['accuracy'])"
   ]
  },
  {
   "cell_type": "code",
   "execution_count": 104,
   "metadata": {},
   "outputs": [
    {
     "name": "stdout",
     "output_type": "stream",
     "text": [
      "Model: \"sequential_3\"\n",
      "_________________________________________________________________\n",
      "Layer (type)                 Output Shape              Param #   \n",
      "=================================================================\n",
      "bidirectional_6 (Bidirection (None, 64, 128)           1834496   \n",
      "_________________________________________________________________\n",
      "dropout_3 (Dropout)          (None, 64, 128)           0         \n",
      "_________________________________________________________________\n",
      "bidirectional_7 (Bidirection (None, 64, 128)           98816     \n",
      "_________________________________________________________________\n",
      "lstm_11 (LSTM)               (None, 100)               91600     \n",
      "_________________________________________________________________\n",
      "dense_6 (Dense)              (None, 128)               12928     \n",
      "_________________________________________________________________\n",
      "dense_7 (Dense)              (None, 12)                1548      \n",
      "=================================================================\n",
      "Total params: 2,039,388\n",
      "Trainable params: 2,039,388\n",
      "Non-trainable params: 0\n",
      "_________________________________________________________________\n"
     ]
    }
   ],
   "source": [
    "model.summary()"
   ]
  },
  {
   "cell_type": "code",
   "execution_count": 105,
   "metadata": {},
   "outputs": [
    {
     "name": "stdout",
     "output_type": "stream",
     "text": [
      "Train on 1296 samples, validate on 432 samples\n",
      "Epoch 1/25\n",
      "1296/1296 [==============================] - 40s 31ms/sample - loss: 2.4981 - accuracy: 0.0918 - val_loss: 2.2469 - val_accuracy: 0.4491\n",
      "Epoch 2/25\n",
      "1296/1296 [==============================] - 27s 21ms/sample - loss: 2.1976 - accuracy: 0.3704 - val_loss: 1.7051 - val_accuracy: 0.5995\n",
      "Epoch 3/25\n",
      "1296/1296 [==============================] - 25s 20ms/sample - loss: 1.6404 - accuracy: 0.5424 - val_loss: 0.9056 - val_accuracy: 0.8380\n",
      "Epoch 4/25\n",
      "1296/1296 [==============================] - 25s 19ms/sample - loss: 0.9194 - accuracy: 0.7724 - val_loss: 0.3707 - val_accuracy: 0.9398\n",
      "Epoch 5/25\n",
      "1296/1296 [==============================] - 25s 19ms/sample - loss: 0.4327 - accuracy: 0.9028 - val_loss: 0.1693 - val_accuracy: 0.9722\n",
      "Epoch 6/25\n",
      "1296/1296 [==============================] - 24s 19ms/sample - loss: 0.2019 - accuracy: 0.9614 - val_loss: 0.0772 - val_accuracy: 0.9884\n",
      "Epoch 7/25\n",
      "1296/1296 [==============================] - 26s 20ms/sample - loss: 0.1146 - accuracy: 0.9807 - val_loss: 0.0386 - val_accuracy: 0.9977\n",
      "Epoch 8/25\n",
      "1296/1296 [==============================] - 25s 19ms/sample - loss: 0.0575 - accuracy: 0.9915 - val_loss: 0.0270 - val_accuracy: 0.9977\n",
      "Epoch 9/25\n",
      "1296/1296 [==============================] - 25s 19ms/sample - loss: 0.0350 - accuracy: 0.9977 - val_loss: 0.0140 - val_accuracy: 1.0000\n",
      "Epoch 10/25\n",
      "1296/1296 [==============================] - 25s 19ms/sample - loss: 0.0246 - accuracy: 0.9992 - val_loss: 0.0103 - val_accuracy: 1.0000\n",
      "Epoch 11/25\n",
      "1296/1296 [==============================] - 24s 19ms/sample - loss: 0.0183 - accuracy: 0.9992 - val_loss: 0.0085 - val_accuracy: 1.0000\n",
      "Epoch 12/25\n",
      "1296/1296 [==============================] - 25s 19ms/sample - loss: 0.0151 - accuracy: 0.9985 - val_loss: 0.0069 - val_accuracy: 1.0000\n",
      "Epoch 13/25\n",
      "1296/1296 [==============================] - 24s 19ms/sample - loss: 0.0126 - accuracy: 0.9985 - val_loss: 0.0063 - val_accuracy: 1.0000\n",
      "Epoch 14/25\n",
      "1296/1296 [==============================] - 25s 19ms/sample - loss: 0.0104 - accuracy: 1.0000 - val_loss: 0.0052 - val_accuracy: 1.0000\n",
      "Epoch 15/25\n",
      "1296/1296 [==============================] - 25s 19ms/sample - loss: 0.0076 - accuracy: 1.0000 - val_loss: 0.0044 - val_accuracy: 1.0000\n",
      "Epoch 16/25\n",
      "1296/1296 [==============================] - 24s 19ms/sample - loss: 0.0075 - accuracy: 1.0000 - val_loss: 0.0040 - val_accuracy: 1.0000\n",
      "Epoch 17/25\n",
      "1296/1296 [==============================] - 25s 19ms/sample - loss: 0.0082 - accuracy: 0.9992 - val_loss: 0.0038 - val_accuracy: 1.0000\n",
      "Epoch 18/25\n",
      "1296/1296 [==============================] - 25s 19ms/sample - loss: 0.0070 - accuracy: 1.0000 - val_loss: 0.0035 - val_accuracy: 1.0000\n",
      "Epoch 19/25\n",
      "1296/1296 [==============================] - 24s 19ms/sample - loss: 0.0061 - accuracy: 0.9992 - val_loss: 0.0032 - val_accuracy: 1.0000\n",
      "Epoch 20/25\n",
      "1296/1296 [==============================] - 26s 20ms/sample - loss: 0.0047 - accuracy: 1.0000 - val_loss: 0.0029 - val_accuracy: 1.0000\n",
      "Epoch 21/25\n",
      "1296/1296 [==============================] - 25s 19ms/sample - loss: 0.0044 - accuracy: 1.0000 - val_loss: 0.0074 - val_accuracy: 0.9977\n",
      "Epoch 22/25\n",
      "1296/1296 [==============================] - 24s 19ms/sample - loss: 0.0068 - accuracy: 0.9992 - val_loss: 0.0023 - val_accuracy: 1.0000\n",
      "Epoch 23/25\n",
      "1296/1296 [==============================] - 25s 19ms/sample - loss: 0.0179 - accuracy: 0.9954 - val_loss: 0.0076 - val_accuracy: 0.9977\n",
      "Epoch 24/25\n",
      "1296/1296 [==============================] - 25s 19ms/sample - loss: 0.0211 - accuracy: 0.9931 - val_loss: 0.0166 - val_accuracy: 0.9954\n",
      "Epoch 25/25\n",
      "1296/1296 [==============================] - 24s 19ms/sample - loss: 0.0185 - accuracy: 0.9946 - val_loss: 0.0185 - val_accuracy: 0.9954\n"
     ]
    }
   ],
   "source": [
    "history = model.fit(x_train, y_train, validation_data = (x_val, y_val), epochs=25, batch_size=32)"
   ]
  },
  {
   "cell_type": "code",
   "execution_count": 109,
   "metadata": {},
   "outputs": [
    {
     "name": "stdout",
     "output_type": "stream",
     "text": [
      "Accuracy: 99.53703703703704\n"
     ]
    }
   ],
   "source": [
    "yhat=model.predict(x_test)\n",
    "yhat=yhat.round()\n",
    "yhat=np.argmax(yhat,axis = 1)\n",
    "print('Accuracy:',np.sum(yhat==y_test)/y_test.size*100)"
   ]
  },
  {
   "cell_type": "code",
   "execution_count": 110,
   "metadata": {},
   "outputs": [
    {
     "data": {
      "text/plain": [
       "array([ 0,  0,  0,  0,  1,  1,  1,  1,  2,  2,  2,  2,  3,  3,  1,  3,  4,\n",
       "        4,  4,  4,  5,  5,  5,  5,  6,  6,  6,  6,  7,  7,  7,  7,  8,  8,\n",
       "        8,  8,  9,  9,  9,  9, 10, 10, 10, 10, 11, 11, 11, 11,  0,  0,  0,\n",
       "        0,  1,  1,  1,  1,  2,  2,  2,  2,  3,  3,  3,  3,  4,  4,  4,  4,\n",
       "        5,  5,  5,  5,  6,  6,  6,  6,  7,  7,  7,  7,  8,  8,  8,  8,  9,\n",
       "        9,  9,  9, 10, 10, 10, 10, 11, 11, 11, 11,  0,  0,  0,  0,  1,  1,\n",
       "        1,  1,  2,  2,  2,  2,  3,  3,  3,  3,  4,  4,  4,  4,  5,  5,  5,\n",
       "        5,  6,  6,  6,  6,  7,  7,  7,  7,  8,  8,  8,  8,  9,  9,  9,  9,\n",
       "       10, 10, 10, 10, 11, 11, 11, 11,  0,  0,  0,  0,  1,  1,  1,  1,  2,\n",
       "        2,  2,  2,  3,  3,  3,  3,  4,  4,  4,  4,  5,  5,  5,  5,  6,  6,\n",
       "        6,  6,  7,  7,  7,  7,  8,  8,  8,  8,  9,  9,  9,  9, 10, 10, 10,\n",
       "       10, 11, 11, 11, 11,  0,  0,  0,  0,  1,  1,  1,  1,  2,  2,  2,  2,\n",
       "        3,  3,  3,  3,  4,  4,  4,  4,  5,  5,  5,  5,  6,  6,  6,  6,  7,\n",
       "        7,  7,  7,  8,  8,  8,  8,  9,  9,  9,  9, 10, 10, 10, 10, 11, 11,\n",
       "       11, 11,  0,  0,  0,  0,  1,  1,  1,  1,  2,  2,  2,  2,  3,  3,  3,\n",
       "        3,  4,  4,  4,  4,  5,  5,  5,  5,  6,  6,  6,  6,  7,  7,  7,  7,\n",
       "        8,  8,  8,  8,  9,  9,  9,  9, 10, 10, 10, 10, 11, 11, 11, 11,  0,\n",
       "        0,  0,  0,  1,  1,  1,  1,  2,  2,  2,  2,  3,  3,  3,  3,  4,  4,\n",
       "        4,  4,  5,  5,  5,  5,  6,  6,  6,  6,  7,  7,  7,  7,  8,  8,  8,\n",
       "        8,  9,  9,  9,  9, 10, 10, 10, 10, 11, 11, 11, 11,  0,  0,  0,  0,\n",
       "        1,  1,  1,  1,  2,  2,  2,  2,  3,  3,  3,  3,  4,  4,  4,  4,  5,\n",
       "        5,  5,  7,  6,  6,  6,  6,  7,  7,  7,  7,  8,  8,  8,  8,  9,  9,\n",
       "        9,  9, 10, 10, 10, 10, 11, 11, 11, 11,  0,  0,  0,  0,  1,  1,  1,\n",
       "        1,  2,  2,  2,  2,  3,  3,  3,  3,  4,  4,  4,  4,  5,  5,  5,  5,\n",
       "        6,  6,  6,  6,  7,  7,  7,  7,  8,  8,  8,  8,  9,  9,  9,  9, 10,\n",
       "       10, 10, 10, 11, 11, 11, 11], dtype=int64)"
      ]
     },
     "execution_count": 110,
     "metadata": {},
     "output_type": "execute_result"
    }
   ],
   "source": [
    "yhat"
   ]
  },
  {
   "cell_type": "code",
   "execution_count": 111,
   "metadata": {},
   "outputs": [
    {
     "data": {
      "text/plain": [
       "array([ 0,  0,  0,  0,  1,  1,  1,  1,  2,  2,  2,  2,  3,  3,  3,  3,  4,\n",
       "        4,  4,  4,  5,  5,  5,  5,  6,  6,  6,  6,  7,  7,  7,  7,  8,  8,\n",
       "        8,  8,  9,  9,  9,  9, 10, 10, 10, 10, 11, 11, 11, 11,  0,  0,  0,\n",
       "        0,  1,  1,  1,  1,  2,  2,  2,  2,  3,  3,  3,  3,  4,  4,  4,  4,\n",
       "        5,  5,  5,  5,  6,  6,  6,  6,  7,  7,  7,  7,  8,  8,  8,  8,  9,\n",
       "        9,  9,  9, 10, 10, 10, 10, 11, 11, 11, 11,  0,  0,  0,  0,  1,  1,\n",
       "        1,  1,  2,  2,  2,  2,  3,  3,  3,  3,  4,  4,  4,  4,  5,  5,  5,\n",
       "        5,  6,  6,  6,  6,  7,  7,  7,  7,  8,  8,  8,  8,  9,  9,  9,  9,\n",
       "       10, 10, 10, 10, 11, 11, 11, 11,  0,  0,  0,  0,  1,  1,  1,  1,  2,\n",
       "        2,  2,  2,  3,  3,  3,  3,  4,  4,  4,  4,  5,  5,  5,  5,  6,  6,\n",
       "        6,  6,  7,  7,  7,  7,  8,  8,  8,  8,  9,  9,  9,  9, 10, 10, 10,\n",
       "       10, 11, 11, 11, 11,  0,  0,  0,  0,  1,  1,  1,  1,  2,  2,  2,  2,\n",
       "        3,  3,  3,  3,  4,  4,  4,  4,  5,  5,  5,  5,  6,  6,  6,  6,  7,\n",
       "        7,  7,  7,  8,  8,  8,  8,  9,  9,  9,  9, 10, 10, 10, 10, 11, 11,\n",
       "       11, 11,  0,  0,  0,  0,  1,  1,  1,  1,  2,  2,  2,  2,  3,  3,  3,\n",
       "        3,  4,  4,  4,  4,  5,  5,  5,  5,  6,  6,  6,  6,  7,  7,  7,  7,\n",
       "        8,  8,  8,  8,  9,  9,  9,  9, 10, 10, 10, 10, 11, 11, 11, 11,  0,\n",
       "        0,  0,  0,  1,  1,  1,  1,  2,  2,  2,  2,  3,  3,  3,  3,  4,  4,\n",
       "        4,  4,  5,  5,  5,  5,  6,  6,  6,  6,  7,  7,  7,  7,  8,  8,  8,\n",
       "        8,  9,  9,  9,  9, 10, 10, 10, 10, 11, 11, 11, 11,  0,  0,  0,  0,\n",
       "        1,  1,  1,  1,  2,  2,  2,  2,  3,  3,  3,  3,  4,  4,  4,  4,  5,\n",
       "        5,  5,  5,  6,  6,  6,  6,  7,  7,  7,  7,  8,  8,  8,  8,  9,  9,\n",
       "        9,  9, 10, 10, 10, 10, 11, 11, 11, 11,  0,  0,  0,  0,  1,  1,  1,\n",
       "        1,  2,  2,  2,  2,  3,  3,  3,  3,  4,  4,  4,  4,  5,  5,  5,  5,\n",
       "        6,  6,  6,  6,  7,  7,  7,  7,  8,  8,  8,  8,  9,  9,  9,  9, 10,\n",
       "       10, 10, 10, 11, 11, 11, 11], dtype=int64)"
      ]
     },
     "execution_count": 111,
     "metadata": {},
     "output_type": "execute_result"
    }
   ],
   "source": [
    "y_test"
   ]
  },
  {
   "cell_type": "code",
   "execution_count": 112,
   "metadata": {},
   "outputs": [
    {
     "name": "stderr",
     "output_type": "stream",
     "text": [
      "C:\\Users\\varun\\Anaconda3\\lib\\site-packages\\ipykernel_launcher.py:2: FutureWarning: Using a non-tuple sequence for multidimensional indexing is deprecated; use `arr[tuple(seq)]` instead of `arr[seq]`. In the future this will be interpreted as an array index, `arr[np.array(seq)]`, which will result either in an error or a different result.\n",
      "  \n"
     ]
    },
    {
     "data": {
      "text/plain": [
       "array([[36,  0,  0,  0,  0,  0,  0,  0,  0,  0,  0,  0],\n",
       "       [ 0, 36,  0,  0,  0,  0,  0,  0,  0,  0,  0,  0],\n",
       "       [ 0,  0, 36,  0,  0,  0,  0,  0,  0,  0,  0,  0],\n",
       "       [ 0,  1,  0, 35,  0,  0,  0,  0,  0,  0,  0,  0],\n",
       "       [ 0,  0,  0,  0, 36,  0,  0,  0,  0,  0,  0,  0],\n",
       "       [ 0,  0,  0,  0,  0, 35,  0,  1,  0,  0,  0,  0],\n",
       "       [ 0,  0,  0,  0,  0,  0, 36,  0,  0,  0,  0,  0],\n",
       "       [ 0,  0,  0,  0,  0,  0,  0, 36,  0,  0,  0,  0],\n",
       "       [ 0,  0,  0,  0,  0,  0,  0,  0, 36,  0,  0,  0],\n",
       "       [ 0,  0,  0,  0,  0,  0,  0,  0,  0, 36,  0,  0],\n",
       "       [ 0,  0,  0,  0,  0,  0,  0,  0,  0,  0, 36,  0],\n",
       "       [ 0,  0,  0,  0,  0,  0,  0,  0,  0,  0,  0, 36]])"
      ]
     },
     "execution_count": 112,
     "metadata": {},
     "output_type": "execute_result"
    }
   ],
   "source": [
    "cm = np.zeros((12,12), dtype=int)\n",
    "np.add.at(cm, [y_test, yhat], 1)\n",
    "cm"
   ]
  },
  {
   "cell_type": "code",
   "execution_count": null,
   "metadata": {},
   "outputs": [],
   "source": []
  }
 ],
 "metadata": {
  "kernelspec": {
   "display_name": "Python 3",
   "language": "python",
   "name": "python3"
  },
  "language_info": {
   "codemirror_mode": {
    "name": "ipython",
    "version": 3
   },
   "file_extension": ".py",
   "mimetype": "text/x-python",
   "name": "python",
   "nbconvert_exporter": "python",
   "pygments_lexer": "ipython3",
   "version": "3.7.3"
  }
 },
 "nbformat": 4,
 "nbformat_minor": 1
}
