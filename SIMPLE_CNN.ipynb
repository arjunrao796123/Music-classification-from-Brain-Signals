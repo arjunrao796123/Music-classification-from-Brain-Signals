{
 "cells": [
  {
   "cell_type": "code",
   "execution_count": 0,
   "metadata": {
    "cellView": "form",
    "colab": {},
    "colab_type": "code",
    "id": "KUu4vOt5zI9d"
   },
   "outputs": [],
   "source": [
    "import h5py\n",
    "import random\n",
    "class Miir():\n",
    "    def __init__(self, data_path='/home/arjun/PycharmProjects/untitled3/openmiir-rl-2016/EEG-Disetangled-Classification-master/OpenMIIR-Perception-512Hz.hdf5', train=True):\n",
    "        h5 = h5py.File(data_path, 'r')\n",
    "        self.train = train\n",
    "        features = h5['features']\n",
    "        targets = h5['targets']\n",
    "        subjects = h5['subjects']\n",
    "        train_indx=[]\n",
    "        self.train_features=[]\n",
    "        self.test_features=[]\n",
    "        self.train_targets = []\n",
    "        self.test_targets = []\n",
    "        self.train_subjects = self.test_subjects=[]\n",
    "        self.test_subject_id = random.randint(0,8)\n",
    "        for i,e in enumerate(subjects):\n",
    "            if e != self.test_subject_id:\n",
    "                train_indx.append(i)\n",
    "        for i, e in enumerate(features):\n",
    "            if i in train_indx:\n",
    "                self.train_features.append(e)\n",
    "            if i not in train_indx:\n",
    "                self.test_features.append(e)\n",
    "        for i, e in enumerate(targets):\n",
    "            if i in train_indx:\n",
    "                self.train_targets.append(e)\n",
    "            if i not in train_indx:\n",
    "                self.test_targets.append(e)\n",
    "        for i, e in enumerate(subjects):\n",
    "            if i in train_indx:\n",
    "                self.train_subjects.append(e)\n",
    "            if i not in train_indx:\n",
    "                self.test_subjects.append(e)\n",
    "        self.train_size = len(self.train_features)\n",
    "        self.test_size = len(self.test_features)\n",
    "    \n",
    "    def __len__(self):\n",
    "        if self.train:\n",
    "            return self.train_size\n",
    "        else:\n",
    "            return self.test_size\n",
    "\n",
    "    def __getitem__(self, index):\n",
    "        if self.train:\n",
    "            return self.train_features[index], self.train_targets[index], self.train_subjects[index]\n",
    "        else:\n",
    "            return self.test_features[index], self.test_targets[index], self.test_subjects[index]\n",
    "\n",
    "pp = Miir()\n",
    "import numpy as np\n",
    "work = np.squeeze(np.array(pp.train_features))\n",
    "work_test = np.squeeze(np.array(pp.test_features))\n",
    "y_train = np.array(pp.train_targets)\n",
    "y_test = np.array(pp.test_targets)\n"
   ]
  },
  {
   "cell_type": "code",
   "execution_count": 1,
   "metadata": {
    "colab": {
     "base_uri": "https://localhost:8080/",
     "height": 34
    },
    "colab_type": "code",
    "id": "Zo-Yk6LFGfSf",
    "outputId": "fc72105e-5121-4567-81df-bc1764890c15"
   },
   "outputs": [
    {
     "name": "stderr",
     "output_type": "stream",
     "text": [
      "Using TensorFlow backend.\n"
     ]
    }
   ],
   "source": [
    "\n",
    "from __future__ import print_function\n",
    "import keras\n",
    "from keras.datasets import mnist\n",
    "from keras.models import Sequential\n",
    "from keras.layers import Dense, Dropout, Flatten\n",
    "from keras.layers import Conv2D, MaxPooling2D\n",
    "from keras import backend as K\n",
    "\n",
    "batch_size = 5\n",
    "num_classes = 12\n",
    "epochs = 12\n"
   ]
  },
  {
   "cell_type": "code",
   "execution_count": 0,
   "metadata": {
    "colab": {},
    "colab_type": "code",
    "id": "1oP1Hz8AHHT3"
   },
   "outputs": [],
   "source": [
    "img_rows, img_cols = 512, 512\n"
   ]
  },
  {
   "cell_type": "code",
   "execution_count": 0,
   "metadata": {
    "colab": {},
    "colab_type": "code",
    "id": "8rmm_-zlHN7S"
   },
   "outputs": [],
   "source": [
    "import numpy as np\n",
    "preds_test = np.load('/content/drive/My Drive/preds_test.npy')\n",
    "preds = np.load('/content/drive/My Drive/preds.npy')\n",
    "work_test = np.load('/content/drive/My Drive/work_test.npy')\n",
    "work = np.load('/content/drive/My Drive/work.npy')"
   ]
  },
  {
   "cell_type": "markdown",
   "metadata": {
    "colab_type": "text",
    "id": "Hgc2FZKVMx15"
   },
   "source": [
    "### Define the model\n",
    "\n",
    "The following example uses a standard conv-net that has 3 layers with drop-out and batch normalization between each layer."
   ]
  },
  {
   "cell_type": "code",
   "execution_count": 4,
   "metadata": {
    "colab": {
     "base_uri": "https://localhost:8080/",
     "height": 34
    },
    "colab_type": "code",
    "id": "u_PtQkHaHICl",
    "outputId": "7f0b08b1-19d5-46e4-be46-cede2e79750d"
   },
   "outputs": [
    {
     "name": "stdout",
     "output_type": "stream",
     "text": [
      "(480, 512, 512, 1)\n"
     ]
    }
   ],
   "source": [
    "x_train = work.reshape(work.shape[0], img_rows, img_cols, 1)\n",
    "x_test = preds.reshape(preds.shape[0], img_rows, img_cols, 1)\n",
    "input_shape = (img_rows, img_cols, 1)\n",
    "print(x_train.shape)"
   ]
  },
  {
   "cell_type": "code",
   "execution_count": 0,
   "metadata": {
    "colab": {},
    "colab_type": "code",
    "id": "W7gMbs70GxA7"
   },
   "outputs": [],
   "source": [
    "y_train = np.load('train_target.npy')\n",
    "y_test = np.load('test_target.npy')\n",
    "x_train = x_train.astype('float32')\n",
    "x_test = x_test.astype('float32')"
   ]
  },
  {
   "cell_type": "code",
   "execution_count": 0,
   "metadata": {
    "colab": {},
    "colab_type": "code",
    "id": "pWEYmd_hIWg8"
   },
   "outputs": [],
   "source": [
    "\n",
    "model = Sequential()\n",
    "model.add(Conv2D(32, kernel_size=(3, 3),\n",
    "                 activation='relu',\n",
    "                 input_shape=input_shape))\n",
    "model.add(Conv2D(64, (3, 3), activation='relu'))\n",
    "model.add(MaxPooling2D(pool_size=(2, 2)))\n",
    "model.add(Dropout(0.25))\n",
    "model.add(Flatten())\n",
    "model.add(Dense(128, activation='relu'))\n",
    "model.add(Dropout(0.5))\n",
    "model.add(Dense(num_classes, activation='softmax'))\n",
    "\n",
    "model.compile(loss=keras.losses.categorical_crossentropy,\n",
    "              optimizer=keras.optimizers.Adadelta(),\n",
    "              metrics=['accuracy'])\n"
   ]
  },
  {
   "cell_type": "code",
   "execution_count": 11,
   "metadata": {
    "colab": {
     "base_uri": "https://localhost:8080/",
     "height": 1000
    },
    "colab_type": "code",
    "id": "SaYPv_aKId2d",
    "outputId": "ef8f816e-fd83-4ebd-bf73-f5cf217c7deb"
   },
   "outputs": [
    {
     "name": "stdout",
     "output_type": "stream",
     "text": [
      "Epoch 1/25\n",
      "480/480 [==============================] - 92s 193ms/step - loss: 19.5151 - accuracy: 0.0854\n",
      "\n",
      "Testing loss: 2.449952713648478, acc: 0.11666666716337204\n",
      "\n",
      "Epoch 2/25\n",
      "480/480 [==============================] - 89s 186ms/step - loss: 2.2835 - accuracy: 0.2167\n",
      "\n",
      "Testing loss: 2.4375569343566896, acc: 0.10000000149011612\n",
      "\n",
      "Epoch 3/25\n",
      "480/480 [==============================] - 88s 184ms/step - loss: 2.0631 - accuracy: 0.3021\n",
      "\n",
      "Testing loss: 2.418277374903361, acc: 0.0833333358168602\n",
      "\n",
      "Epoch 4/25\n",
      "480/480 [==============================] - 90s 187ms/step - loss: 1.9898 - accuracy: 0.3333\n",
      "\n",
      "Testing loss: 2.412712812423706, acc: 0.1666666716337204\n",
      "\n",
      "Epoch 5/25\n",
      "480/480 [==============================] - 90s 188ms/step - loss: 1.7243 - accuracy: 0.3938\n",
      "\n",
      "Testing loss: 2.368067423502604, acc: 0.11666666716337204\n",
      "\n",
      "Epoch 6/25\n",
      "480/480 [==============================] - 91s 190ms/step - loss: 1.5203 - accuracy: 0.4958\n",
      "\n",
      "Testing loss: 2.369289493560791, acc: 0.11666666716337204\n",
      "\n",
      "Epoch 7/25\n",
      "480/480 [==============================] - 90s 188ms/step - loss: 1.3293 - accuracy: 0.5479\n",
      "\n",
      "Testing loss: 2.322333510716756, acc: 0.10000000149011612\n",
      "\n",
      "Epoch 8/25\n",
      "480/480 [==============================] - 89s 186ms/step - loss: 1.1595 - accuracy: 0.6000\n",
      "\n",
      "Testing loss: 2.231614891688029, acc: 0.2666666805744171\n",
      "\n",
      "Epoch 9/25\n",
      "480/480 [==============================] - 90s 187ms/step - loss: 0.9701 - accuracy: 0.6729\n",
      "\n",
      "Testing loss: 2.273347997665405, acc: 0.28333333134651184\n",
      "\n",
      "Epoch 10/25\n",
      "480/480 [==============================] - 89s 186ms/step - loss: 0.9066 - accuracy: 0.6979\n",
      "\n",
      "Testing loss: 2.364634911219279, acc: 0.30000001192092896\n",
      "\n",
      "Epoch 11/25\n",
      "480/480 [==============================] - 91s 189ms/step - loss: 0.7390 - accuracy: 0.7500\n",
      "\n",
      "Testing loss: 2.515299185117086, acc: 0.28333333134651184\n",
      "\n",
      "Epoch 12/25\n",
      "480/480 [==============================] - 92s 191ms/step - loss: 0.6911 - accuracy: 0.7625\n",
      "\n",
      "Testing loss: 2.190819263458252, acc: 0.23333333432674408\n",
      "\n",
      "Epoch 13/25\n",
      "480/480 [==============================] - 93s 193ms/step - loss: 0.5619 - accuracy: 0.8021\n",
      "\n",
      "Testing loss: 2.2920700232187907, acc: 0.3166666626930237\n",
      "\n",
      "Epoch 14/25\n",
      "480/480 [==============================] - 91s 189ms/step - loss: 0.5047 - accuracy: 0.8333\n",
      "\n",
      "Testing loss: 2.499143934249878, acc: 0.30000001192092896\n",
      "\n",
      "Epoch 15/25\n",
      "480/480 [==============================] - 89s 186ms/step - loss: 0.5619 - accuracy: 0.7875\n",
      "\n",
      "Testing loss: 2.1987795352935793, acc: 0.25\n",
      "\n",
      "Epoch 16/25\n",
      "480/480 [==============================] - 92s 192ms/step - loss: 0.4629 - accuracy: 0.8271\n",
      "\n",
      "Testing loss: 2.2515969912211102, acc: 0.25\n",
      "\n",
      "Epoch 17/25\n",
      "480/480 [==============================] - 92s 192ms/step - loss: 0.4605 - accuracy: 0.8104\n",
      "\n",
      "Testing loss: 2.3989527384440104, acc: 0.25\n",
      "\n",
      "Epoch 18/25\n",
      "480/480 [==============================] - 92s 191ms/step - loss: 0.4836 - accuracy: 0.8208\n",
      "\n",
      "Testing loss: 2.2709887981414796, acc: 0.38333332538604736\n",
      "\n",
      "Epoch 19/25\n",
      "480/480 [==============================] - 92s 191ms/step - loss: 0.4426 - accuracy: 0.8292\n",
      "\n",
      "Testing loss: 2.3367037932078043, acc: 0.23333333432674408\n",
      "\n",
      "Epoch 20/25\n",
      "480/480 [==============================] - 91s 190ms/step - loss: 0.3813 - accuracy: 0.8583\n",
      "\n",
      "Testing loss: 2.3726135730743407, acc: 0.3333333432674408\n",
      "\n",
      "Epoch 21/25\n",
      "480/480 [==============================] - 91s 190ms/step - loss: 0.3493 - accuracy: 0.8708\n",
      "\n",
      "Testing loss: 2.792771657307943, acc: 0.28333333134651184\n",
      "\n",
      "Epoch 22/25\n",
      "480/480 [==============================] - 90s 188ms/step - loss: 0.3781 - accuracy: 0.8521\n",
      "\n",
      "Testing loss: 2.594626220067342, acc: 0.2666666805744171\n",
      "\n",
      "Epoch 23/25\n",
      "480/480 [==============================] - 92s 192ms/step - loss: 0.3594 - accuracy: 0.8500\n",
      "\n",
      "Testing loss: 2.195700724919637, acc: 0.3166666626930237\n",
      "\n",
      "Epoch 24/25\n",
      "480/480 [==============================] - 93s 194ms/step - loss: 0.3217 - accuracy: 0.8708\n",
      "\n",
      "Testing loss: 2.6186725457509357, acc: 0.2666666805744171\n",
      "\n",
      "Epoch 25/25\n",
      "480/480 [==============================] - 90s 188ms/step - loss: 0.3104 - accuracy: 0.8813\n",
      "\n",
      "Testing loss: 2.6446476300557453, acc: 0.28333333134651184\n",
      "\n",
      "Test loss: 0.0012259847135283053\n",
      "Test accuracy: 1.0\n"
     ]
    }
   ],
   "source": [
    "x_test= work_test.reshape(work_test.shape[0], img_rows, img_cols, 1)\n",
    "model.fit(x_train, y_train,\n",
    "          batch_size=32,\n",
    "          epochs=25,\n",
    "          verbose=1,callbacks=[TestCallback((x_test))])\n"
   ]
  },
  {
   "cell_type": "code",
   "execution_count": 0,
   "metadata": {
    "colab": {},
    "colab_type": "code",
    "id": "SuyyDApr6McW"
   },
   "outputs": [],
   "source": []
  }
 ],
 "metadata": {
  "accelerator": "TPU",
  "colab": {
   "collapsed_sections": [
    "N6ZDpd9XzFeN"
   ],
   "machine_shape": "hm",
   "name": "Keras Fashion MNIST",
   "provenance": [],
   "toc_visible": true
  },
  "kernelspec": {
   "display_name": "Python 3",
   "language": "python",
   "name": "python3"
  },
  "language_info": {
   "codemirror_mode": {
    "name": "ipython",
    "version": 3
   },
   "file_extension": ".py",
   "mimetype": "text/x-python",
   "name": "python",
   "nbconvert_exporter": "python",
   "pygments_lexer": "ipython3",
   "version": "3.7.4"
  }
 },
 "nbformat": 4,
 "nbformat_minor": 1
}
