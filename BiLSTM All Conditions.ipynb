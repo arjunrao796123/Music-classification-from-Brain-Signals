{
 "cells": [
  {
   "cell_type": "code",
   "execution_count": 1,
   "metadata": {},
   "outputs": [],
   "source": [
    "import os\n",
    "os.environ[\"THEANO_FLAGS\"] = \"floatX=float32,device=cpu\"\n",
    "\n",
    "import deepthought\n",
    "import os\n",
    "from deepthought.datasets.eeg.meta_class import DataFileWithMetaClasses\n",
    "\n",
    "db = DataFileWithMetaClasses(\n",
    "        filepath='data/OpenMIIR-Perception-512Hz.pklz',\n",
    "        meta_classes={                                                \n",
    "                    'within_subject_tuples_group': ['subject', 'condition'],\n",
    "                    'cross_subject_tuples_group': ['condition'], # cross-participant triplets - this should be very tough                },\n",
    "                },\n",
    "    )"
   ]
  },
  {
   "cell_type": "code",
   "execution_count": 57,
   "metadata": {},
   "outputs": [],
   "source": [
    "from deepthought.datasets.eeg.EEGEpochsDataset import EEGEpochsDataset\n",
    "INPUT_LEN = 6000\n",
    "base_dataset = EEGEpochsDataset(\n",
    "                db=db,\n",
    "                meta_sources=['subject'],\n",
    "                selectors={         \n",
    "                    #'trial_no' : [0,1,  3,4],\n",
    "                    'condition' : [1,2,3,4],\n",
    "                },\n",
    "                use_targets=False,\n",
    "                stop_sample=INPUT_LEN,\n",
    "                label_attribute='stimulus_id',\n",
    "                label_map= { # stimulus_id\n",
    "                    1: 0, 2: 1, 3: 2, 4: 3, 11: 4, 12: 5, 13: 6, 14: 7, 21: 8, 22: 9, 23: 10, 24: 11,\n",
    "                },\n",
    "                remove_dc_offset=True,\n",
    "                layout='tf',\n",
    "            )"
   ]
  },
  {
   "cell_type": "code",
   "execution_count": 58,
   "metadata": {},
   "outputs": [
    {
     "name": "stdout",
     "output_type": "stream",
     "text": [
      "(2160, 6000, 1, 64)\n",
      "(2160, 12)\n",
      "{'subject': 'P01', 'trial_type': 'perception', 'trial_no': 0, 'condition': 1, 'stimulus_id': 1, 'within_subject_tuples_group': 0, 'cross_subject_tuples_group': 0}\n",
      "dict_keys(['subject', 'trial_type', 'trial_no', 'condition', 'stimulus_id', 'within_subject_tuples_group', 'cross_subject_tuples_group'])\n"
     ]
    }
   ],
   "source": [
    "print (base_dataset.trials.shape)\n",
    "print (base_dataset.y.shape)\n",
    "print (base_dataset.metadata[0])\n",
    "print (base_dataset.metadata[0].keys())"
   ]
  },
  {
   "cell_type": "code",
   "execution_count": 59,
   "metadata": {},
   "outputs": [
    {
     "name": "stdout",
     "output_type": "stream",
     "text": [
      "(2160, 64, 6000, 1)\n"
     ]
    }
   ],
   "source": [
    "# convert to bc01 axis format\n",
    "import numpy as np\n",
    "features_bc01 = np.rollaxis(base_dataset.trials,3,1)\n",
    "print (features_bc01.shape)"
   ]
  },
  {
   "cell_type": "code",
   "execution_count": 388,
   "metadata": {},
   "outputs": [
    {
     "name": "stderr",
     "output_type": "stream",
     "text": [
      "C:\\Users\\varun\\Documents\\Deep Learning\\project\\openmiir-rl-2016-master\\openmiir-rl-2016-master\\fuel\\datasets\\hdf5.py:270: FutureWarning: Passing (type, 1) or '1type' as a synonym of type is deprecated; in a future version of numpy, it will be understood as (type, (1,)) / '(1,)type'.\n",
      "  ('comment', 'a', comment_len)]))\n"
     ]
    }
   ],
   "source": [
    "# save dataset\n",
    "\n",
    "import h5py\n",
    "from fuel.datasets.hdf5 import H5PYDataset\n",
    "\n",
    "hdf5name = 'data/OpenMIIR-Perception-512Hz.hdf5'\n",
    "f = h5py.File(hdf5name, mode='w')\n",
    "\n",
    "N = len(base_dataset.trials)\n",
    "fx = f.create_dataset('features', features_bc01.shape, dtype='float32')\n",
    "fy = f.create_dataset('targets', base_dataset.y.shape, dtype='int8')\n",
    "fx[...] = features_bc01\n",
    "fy[...] = base_dataset.y\n",
    "\n",
    "# for using indices\n",
    "findices = f.create_dataset('indices', (N,), dtype='int')\n",
    "findices[...] = range(N)\n",
    "\n",
    "# additional metadata source for hydra-net control flow\n",
    "subjects = ['P01','P04','P06','P07','P09','P11','P12','P13','P14']\n",
    "fsubject = f.create_dataset('subjects', (N,), dtype='int8')\n",
    "fsubject[...] = [subjects.index(meta['subject']) for meta in base_dataset.metadata]\n",
    "\n",
    "split_dict = {\n",
    "    'all': {'features': (0, N), \n",
    "            'indices': (0, N), \n",
    "            'targets': (0, N),\n",
    "            'subjects': (0, N)\n",
    "           },\n",
    "}\n",
    "\n",
    "f.attrs['split'] = H5PYDataset.create_split_array(split_dict)\n",
    "\n",
    "f.flush()\n",
    "f.close()\n",
    "\n",
    "# metadata for subset selection\n",
    "import deepthought.util.fs_util as fs_util\n",
    "fs_util.save(hdf5name+'.meta.pklz', base_dataset.metadata)"
   ]
  },
  {
   "cell_type": "code",
   "execution_count": 60,
   "metadata": {},
   "outputs": [
    {
     "data": {
      "text/plain": [
       "(2160, 64, 6000, 1)"
      ]
     },
     "execution_count": 60,
     "metadata": {},
     "output_type": "execute_result"
    }
   ],
   "source": [
    "features_bc01.shape"
   ]
  },
  {
   "cell_type": "code",
   "execution_count": 61,
   "metadata": {},
   "outputs": [
    {
     "data": {
      "text/plain": [
       "(2160, 12)"
      ]
     },
     "execution_count": 61,
     "metadata": {},
     "output_type": "execute_result"
    }
   ],
   "source": [
    "base_dataset.y.shape"
   ]
  },
  {
   "cell_type": "code",
   "execution_count": 62,
   "metadata": {},
   "outputs": [
    {
     "data": {
      "text/plain": [
       "array([1, 0, 0, 0, 0, 0, 0, 0, 0, 0, 0, 0])"
      ]
     },
     "execution_count": 62,
     "metadata": {},
     "output_type": "execute_result"
    }
   ],
   "source": [
    "base_dataset.y[0]"
   ]
  },
  {
   "cell_type": "code",
   "execution_count": 63,
   "metadata": {},
   "outputs": [
    {
     "data": {
      "text/plain": [
       "array([0, 0, 0, 1, 0, 0, 0, 0, 0, 0, 0, 0])"
      ]
     },
     "execution_count": 63,
     "metadata": {},
     "output_type": "execute_result"
    }
   ],
   "source": [
    "base_dataset.y[60]"
   ]
  },
  {
   "cell_type": "code",
   "execution_count": 64,
   "metadata": {},
   "outputs": [
    {
     "data": {
      "text/plain": [
       "(2160,)"
      ]
     },
     "execution_count": 64,
     "metadata": {},
     "output_type": "execute_result"
    }
   ],
   "source": [
    "labels=[]\n",
    "for i in base_dataset.y:\n",
    "    labels.append(np.where(i==1))\n",
    "labels=np.array(labels)\n",
    "labels=labels.reshape((base_dataset.y.shape[0],))\n",
    "labels.shape"
   ]
  },
  {
   "cell_type": "code",
   "execution_count": 65,
   "metadata": {},
   "outputs": [
    {
     "data": {
      "text/plain": [
       "0"
      ]
     },
     "execution_count": 65,
     "metadata": {},
     "output_type": "execute_result"
    }
   ],
   "source": [
    "labels[5]"
   ]
  },
  {
   "cell_type": "code",
   "execution_count": 66,
   "metadata": {},
   "outputs": [],
   "source": [
    "labels_dict={0:1,1:2,2:3,3:4,4:11,5:12,6:13,7:14,8:21,9:22,10:23,11:24}"
   ]
  },
  {
   "cell_type": "code",
   "execution_count": 67,
   "metadata": {},
   "outputs": [
    {
     "data": {
      "text/plain": [
       "array([ 0,  0,  0, ..., 11, 11, 11], dtype=int64)"
      ]
     },
     "execution_count": 67,
     "metadata": {},
     "output_type": "execute_result"
    }
   ],
   "source": [
    "labels"
   ]
  },
  {
   "cell_type": "code",
   "execution_count": 68,
   "metadata": {},
   "outputs": [],
   "source": [
    "features=features_bc01"
   ]
  },
  {
   "cell_type": "code",
   "execution_count": 69,
   "metadata": {},
   "outputs": [
    {
     "data": {
      "text/plain": [
       "(2160, 64, 6000, 1)"
      ]
     },
     "execution_count": 69,
     "metadata": {},
     "output_type": "execute_result"
    }
   ],
   "source": [
    "features.shape"
   ]
  },
  {
   "cell_type": "code",
   "execution_count": 70,
   "metadata": {},
   "outputs": [
    {
     "data": {
      "text/plain": [
       "(2160, 64, 6000)"
      ]
     },
     "execution_count": 70,
     "metadata": {},
     "output_type": "execute_result"
    }
   ],
   "source": [
    "features=features.reshape(features.shape[0],64,INPUT_LEN)\n",
    "#features=np.swapaxes(features,1,2)\n",
    "features.shape"
   ]
  },
  {
   "cell_type": "code",
   "execution_count": 71,
   "metadata": {},
   "outputs": [],
   "source": [
    "import tensorflow as tf\n",
    "from sklearn.model_selection import train_test_split\n",
    "from sklearn.metrics import accuracy_score\n",
    "import matplotlib.pyplot as plt\n",
    "from tensorflow.keras.preprocessing.sequence import pad_sequences\n",
    "from tensorflow.keras.layers import Embedding, LSTM, Dense, Dropout, Bidirectional,SimpleRNN, Conv2D,MaxPooling2D\n",
    "from tensorflow.keras.preprocessing.text import Tokenizer\n",
    "from tensorflow.keras.models import Sequential\n",
    "from tensorflow.keras.optimizers import Adam\n",
    "from tensorflow.keras import regularizers\n",
    "import tensorflow.keras.utils as ku"
   ]
  },
  {
   "cell_type": "code",
   "execution_count": 72,
   "metadata": {},
   "outputs": [
    {
     "name": "stdout",
     "output_type": "stream",
     "text": [
      "(1680, 64, 6000) (1680,) (240, 64, 6000) (240,) (240, 64, 6000) (240,)\n"
     ]
    }
   ],
   "source": [
    "x_train=features[:1680]\n",
    "y_train=labels[:1680]\n",
    "x_test=features[1680:1920]\n",
    "y_test=labels[1680:1920]\n",
    "x_val=features[1920:]\n",
    "y_val=labels[1920:]\n",
    "\n",
    "print(x_train.shape,y_train.shape, x_val.shape, y_val.shape, x_test.shape, y_test.shape)"
   ]
  },
  {
   "cell_type": "markdown",
   "metadata": {},
   "source": [
    "Execute the below cell for within-subject evaluation"
   ]
  },
  {
   "cell_type": "code",
   "execution_count": 100,
   "metadata": {},
   "outputs": [
    {
     "name": "stderr",
     "output_type": "stream",
     "text": [
      "C:\\Users\\varun\\Anaconda3\\lib\\site-packages\\ipykernel_launcher.py:9: DeprecationWarning: in the future out of bounds indices will raise an error instead of being ignored by `numpy.delete`.\n",
      "  if __name__ == '__main__':\n"
     ]
    },
    {
     "name": "stdout",
     "output_type": "stream",
     "text": [
      "(1296, 64, 3518) (1296,) (432, 64, 3518) (432,) (432, 64, 3518) (432,)\n"
     ]
    },
    {
     "name": "stderr",
     "output_type": "stream",
     "text": [
      "C:\\Users\\varun\\Anaconda3\\lib\\site-packages\\ipykernel_launcher.py:10: DeprecationWarning: in the future out of bounds indices will raise an error instead of being ignored by `numpy.delete`.\n",
      "  # Remove the CWD from sys.path while we load stuff.\n"
     ]
    }
   ],
   "source": [
    "#x_train, x_val, y_train, y_val = train_test_split(features, labels, test_size = 0.3, random_state = 5)\n",
    "x_val=features[4::5]\n",
    "y_val=labels[4::5]\n",
    "x_train=np.delete(features, list(range(0, features.shape[0], 5)), axis=0)\n",
    "y_train=np.delete(labels, list(range(0, labels.shape[0], 5)), axis=0)\n",
    "\n",
    "x_test=x_train[3::4]\n",
    "y_test=y_train[3::4]\n",
    "x_train=np.delete(x_train, list(range(0, features.shape[0], 4)), axis=0)\n",
    "y_train=np.delete(y_train, list(range(0, labels.shape[0], 4)), axis=0)\n",
    "\n",
    "\n",
    "print(x_train.shape,y_train.shape, x_val.shape, y_val.shape, x_test.shape, y_test.shape)"
   ]
  },
  {
   "cell_type": "code",
   "execution_count": 73,
   "metadata": {},
   "outputs": [],
   "source": [
    "#x_train=x_train.to_numpy()\n",
    "x_train = x_train.reshape(x_train.shape[0], 64,INPUT_LEN)\n",
    "#x_val=x_val.to_numpy()\n",
    "x_val = x_val.reshape(x_val.shape[0],  64,INPUT_LEN)\n"
   ]
  },
  {
   "cell_type": "code",
   "execution_count": 75,
   "metadata": {},
   "outputs": [],
   "source": [
    "model = Sequential()\n",
    "model.add(Bidirectional(LSTM(64, return_sequences = True),input_shape=(64,INPUT_LEN)))\n",
    "model.add(Dropout(0.7))\n",
    "model.add(Bidirectional(LSTM(64)))\n",
    "#model.add(LSTM(100))\n",
    "model.add(Dropout(0.7))\n",
    "model.add(Dense(128, activation='tanh'))\n",
    "model.add(Dropout(0.2))\n",
    "model.add(Dense(12, activation='softmax'))\n",
    "#model.compile(loss='categorical_crossentropy', optimizer='adam', metrics=['accuracy'])"
   ]
  },
  {
   "cell_type": "code",
   "execution_count": 76,
   "metadata": {},
   "outputs": [],
   "source": [
    "model.compile(optimizer='Adam', loss='sparse_categorical_crossentropy', metrics=['accuracy'])"
   ]
  },
  {
   "cell_type": "code",
   "execution_count": 77,
   "metadata": {},
   "outputs": [
    {
     "name": "stdout",
     "output_type": "stream",
     "text": [
      "Model: \"sequential_4\"\n",
      "_________________________________________________________________\n",
      "Layer (type)                 Output Shape              Param #   \n",
      "=================================================================\n",
      "bidirectional_8 (Bidirection (None, 64, 128)           3105280   \n",
      "_________________________________________________________________\n",
      "dropout_8 (Dropout)          (None, 64, 128)           0         \n",
      "_________________________________________________________________\n",
      "bidirectional_9 (Bidirection (None, 128)               98816     \n",
      "_________________________________________________________________\n",
      "dropout_9 (Dropout)          (None, 128)               0         \n",
      "_________________________________________________________________\n",
      "dense_8 (Dense)              (None, 128)               16512     \n",
      "_________________________________________________________________\n",
      "dropout_10 (Dropout)         (None, 128)               0         \n",
      "_________________________________________________________________\n",
      "dense_9 (Dense)              (None, 12)                1548      \n",
      "=================================================================\n",
      "Total params: 3,222,156\n",
      "Trainable params: 3,222,156\n",
      "Non-trainable params: 0\n",
      "_________________________________________________________________\n"
     ]
    }
   ],
   "source": [
    "model.summary()"
   ]
  },
  {
   "cell_type": "code",
   "execution_count": 78,
   "metadata": {},
   "outputs": [
    {
     "name": "stdout",
     "output_type": "stream",
     "text": [
      "Train on 1680 samples, validate on 240 samples\n",
      "Epoch 1/25\n",
      "1680/1680 [==============================] - 57s 34ms/sample - loss: 2.5705 - accuracy: 0.0851 - val_loss: 2.4712 - val_accuracy: 0.1125\n",
      "Epoch 2/25\n",
      "1680/1680 [==============================] - 48s 28ms/sample - loss: 2.3524 - accuracy: 0.1905 - val_loss: 2.3910 - val_accuracy: 0.1125\n",
      "Epoch 3/25\n",
      "1680/1680 [==============================] - 42s 25ms/sample - loss: 2.0618 - accuracy: 0.3089 - val_loss: 2.2435 - val_accuracy: 0.1625\n",
      "Epoch 4/25\n",
      "1680/1680 [==============================] - 36s 21ms/sample - loss: 1.6641 - accuracy: 0.4298 - val_loss: 2.1539 - val_accuracy: 0.1875\n",
      "Epoch 5/25\n",
      "1680/1680 [==============================] - 36s 21ms/sample - loss: 1.3215 - accuracy: 0.5506 - val_loss: 2.3262 - val_accuracy: 0.1958\n",
      "Epoch 6/25\n",
      "1680/1680 [==============================] - 36s 21ms/sample - loss: 0.9558 - accuracy: 0.6792 - val_loss: 2.6685 - val_accuracy: 0.2042\n",
      "Epoch 7/25\n",
      "1680/1680 [==============================] - 36s 22ms/sample - loss: 0.6947 - accuracy: 0.7732 - val_loss: 3.0174 - val_accuracy: 0.2042\n",
      "Epoch 8/25\n",
      "1680/1680 [==============================] - 36s 21ms/sample - loss: 0.5170 - accuracy: 0.8393 - val_loss: 3.3656 - val_accuracy: 0.2250\n",
      "Epoch 9/25\n",
      "1680/1680 [==============================] - 36s 21ms/sample - loss: 0.4096 - accuracy: 0.8768 - val_loss: 3.8453 - val_accuracy: 0.1917\n",
      "Epoch 10/25\n",
      "1680/1680 [==============================] - 36s 21ms/sample - loss: 0.4030 - accuracy: 0.8756 - val_loss: 4.1945 - val_accuracy: 0.1917\n",
      "Epoch 11/25\n",
      "1680/1680 [==============================] - 36s 21ms/sample - loss: 0.3137 - accuracy: 0.9125 - val_loss: 4.4836 - val_accuracy: 0.2000\n",
      "Epoch 12/25\n",
      "1680/1680 [==============================] - 36s 21ms/sample - loss: 0.2644 - accuracy: 0.9155 - val_loss: 4.3061 - val_accuracy: 0.2500\n",
      "Epoch 13/25\n",
      "1680/1680 [==============================] - 36s 21ms/sample - loss: 0.2083 - accuracy: 0.9357 - val_loss: 4.7461 - val_accuracy: 0.2167\n",
      "Epoch 14/25\n",
      "1680/1680 [==============================] - 36s 21ms/sample - loss: 0.1701 - accuracy: 0.9530 - val_loss: 4.7901 - val_accuracy: 0.2375\n",
      "Epoch 15/25\n",
      "1680/1680 [==============================] - 36s 21ms/sample - loss: 0.1420 - accuracy: 0.9631 - val_loss: 4.9813 - val_accuracy: 0.2000\n",
      "Epoch 16/25\n",
      "1680/1680 [==============================] - 36s 21ms/sample - loss: 0.1135 - accuracy: 0.9649 - val_loss: 5.4229 - val_accuracy: 0.2083\n",
      "Epoch 17/25\n",
      "1680/1680 [==============================] - 36s 22ms/sample - loss: 0.1023 - accuracy: 0.9673 - val_loss: 5.6004 - val_accuracy: 0.2125\n",
      "Epoch 18/25\n",
      "1680/1680 [==============================] - 36s 22ms/sample - loss: 0.1463 - accuracy: 0.9583 - val_loss: 5.5302 - val_accuracy: 0.2125\n",
      "Epoch 19/25\n",
      "1680/1680 [==============================] - 36s 22ms/sample - loss: 0.1529 - accuracy: 0.9625 - val_loss: 5.3941 - val_accuracy: 0.2000\n",
      "Epoch 20/25\n",
      "1680/1680 [==============================] - 36s 21ms/sample - loss: 0.1245 - accuracy: 0.9661 - val_loss: 5.4703 - val_accuracy: 0.2292\n",
      "Epoch 21/25\n",
      "1680/1680 [==============================] - 36s 21ms/sample - loss: 0.1140 - accuracy: 0.9667 - val_loss: 5.4008 - val_accuracy: 0.2375\n",
      "Epoch 22/25\n",
      "1680/1680 [==============================] - 36s 21ms/sample - loss: 0.1393 - accuracy: 0.9583 - val_loss: 5.5784 - val_accuracy: 0.2000\n",
      "Epoch 23/25\n",
      "1680/1680 [==============================] - 36s 21ms/sample - loss: 0.1490 - accuracy: 0.9589 - val_loss: 5.9204 - val_accuracy: 0.2333\n",
      "Epoch 24/25\n",
      "1680/1680 [==============================] - 36s 21ms/sample - loss: 0.0909 - accuracy: 0.9792 - val_loss: 5.9876 - val_accuracy: 0.2125\n",
      "Epoch 25/25\n",
      "1680/1680 [==============================] - 36s 21ms/sample - loss: 0.0648 - accuracy: 0.9798 - val_loss: 6.2948 - val_accuracy: 0.1833\n"
     ]
    }
   ],
   "source": [
    "history = model.fit(x_train, y_train, validation_data = (x_val, y_val), epochs=25, batch_size=32)"
   ]
  },
  {
   "cell_type": "code",
   "execution_count": 79,
   "metadata": {},
   "outputs": [
    {
     "name": "stdout",
     "output_type": "stream",
     "text": [
      "Accuracy: 23.333333333333332\n"
     ]
    }
   ],
   "source": [
    "yhat=model.predict(x_test)\n",
    "yhat=yhat.round()\n",
    "yhat=np.argmax(yhat,axis = 1)\n",
    "print('Accuracy:',np.sum(yhat==y_test)/y_test.size*100)"
   ]
  },
  {
   "cell_type": "code",
   "execution_count": 80,
   "metadata": {},
   "outputs": [
    {
     "name": "stderr",
     "output_type": "stream",
     "text": [
      "C:\\Users\\varun\\Anaconda3\\lib\\site-packages\\ipykernel_launcher.py:2: FutureWarning: Using a non-tuple sequence for multidimensional indexing is deprecated; use `arr[tuple(seq)]` instead of `arr[seq]`. In the future this will be interpreted as an array index, `arr[np.array(seq)]`, which will result either in an error or a different result.\n",
      "  \n"
     ]
    },
    {
     "data": {
      "text/plain": [
       "array([[3, 0, 0, 3, 6, 0, 0, 3, 0, 5, 0, 0],\n",
       "       [0, 2, 3, 0, 0, 6, 2, 0, 5, 1, 0, 1],\n",
       "       [3, 2, 4, 2, 0, 0, 2, 1, 1, 3, 2, 0],\n",
       "       [5, 0, 1, 1, 8, 0, 0, 2, 0, 2, 1, 0],\n",
       "       [3, 0, 2, 4, 5, 0, 2, 3, 0, 0, 1, 0],\n",
       "       [2, 2, 1, 0, 0, 7, 1, 0, 3, 0, 2, 2],\n",
       "       [1, 3, 5, 0, 1, 0, 6, 0, 2, 0, 1, 1],\n",
       "       [2, 0, 1, 5, 3, 1, 1, 6, 0, 1, 0, 0],\n",
       "       [1, 2, 1, 1, 0, 5, 2, 0, 7, 0, 0, 1],\n",
       "       [5, 0, 0, 3, 7, 0, 0, 1, 0, 2, 1, 1],\n",
       "       [0, 1, 3, 1, 1, 1, 2, 0, 4, 0, 4, 3],\n",
       "       [0, 5, 0, 0, 0, 5, 0, 0, 1, 0, 0, 9]])"
      ]
     },
     "execution_count": 80,
     "metadata": {},
     "output_type": "execute_result"
    }
   ],
   "source": [
    "cm = np.zeros((12,12), dtype=int)\n",
    "np.add.at(cm, [y_test, yhat], 1)\n",
    "cm"
   ]
  },
  {
   "cell_type": "code",
   "execution_count": null,
   "metadata": {},
   "outputs": [],
   "source": []
  }
 ],
 "metadata": {
  "kernelspec": {
   "display_name": "Python 3",
   "language": "python",
   "name": "python3"
  },
  "language_info": {
   "codemirror_mode": {
    "name": "ipython",
    "version": 3
   },
   "file_extension": ".py",
   "mimetype": "text/x-python",
   "name": "python",
   "nbconvert_exporter": "python",
   "pygments_lexer": "ipython3",
   "version": "3.7.3"
  }
 },
 "nbformat": 4,
 "nbformat_minor": 1
}
